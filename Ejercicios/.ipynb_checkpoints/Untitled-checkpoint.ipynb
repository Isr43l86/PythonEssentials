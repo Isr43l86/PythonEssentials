{
 "cells": [
  {
   "cell_type": "markdown",
   "id": "98c07efb",
   "metadata": {},
   "source": [
    "# Mi primer Jupyter"
   ]
  },
  {
   "cell_type": "code",
   "execution_count": null,
   "id": "db88d7eb",
   "metadata": {},
   "outputs": [],
   "source": [
    "print(\"Hello world\")"
   ]
  }
 ],
 "metadata": {
  "kernelspec": {
   "display_name": "Python 3 (ipykernel)",
   "language": "python",
   "name": "python3"
  },
  "language_info": {
   "codemirror_mode": {
    "name": "ipython",
    "version": 3
   },
   "file_extension": ".py",
   "mimetype": "text/x-python",
   "name": "python",
   "nbconvert_exporter": "python",
   "pygments_lexer": "ipython3",
   "version": "3.9.12"
  }
 },
 "nbformat": 4,
 "nbformat_minor": 5
}
